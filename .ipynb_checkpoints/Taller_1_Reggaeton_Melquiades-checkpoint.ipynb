{
 "cells": [
  {
   "cell_type": "markdown",
   "id": "f48739df",
   "metadata": {},
   "source": [
    "## Solución al Taller Numero 1\n",
    "\n",
    "### Diplomado Python aplicado a la Ingeniería\n",
    "\n",
    "- Autor: Adriana Lucia Suarez Ballesteros\n",
    "- ID: 502197\n",
    "- email: adriana.suarezb@upb.edu.co\n",
    "\n",
    "Para el ejercicio: Primero hice las listas y luego probe que la libreria random tomara aleatoriamente las frases incluidas en ella, luego, pedí el nombre de usuario, al ejecutarlo y verque funcionaba, cree la función y le agregué un ciclo While para que repitiera dos veces la estrofa, luego use un parametro para que devolviera un saludo junto al nombre del compositor, y a este saludo le agregue el metodo .upper para que retornara la frase en mayuscula. "
   ]
  },
  {
   "cell_type": "code",
   "execution_count": null,
   "id": "8649d7f9",
   "metadata": {},
   "outputs": [],
   "source": [
    "import random\n",
    "\n",
    "NombCompositor = input(\"Digite el nombre de autor \")\n",
    "\n",
    "\n"
   ]
  },
  {
   "cell_type": "code",
   "execution_count": 26,
   "id": "38988ab6",
   "metadata": {},
   "outputs": [
    {
     "name": "stdout",
     "output_type": "stream",
     "text": [
      "\n",
      "Princess,  Yo vengo a, Jugar, Fuelte, Sin compromiso\n",
      "Mami,  Yo quielo, Encendelte, Lento, Sin anestesia\n",
      "Princess,  Voy a,  Jugar, Suave, Face to face\n",
      "Princess,  Yo vengo a, Encendelte, Rapido, Sin compromiso\n",
      "Alberto ¡DESDE COLOMBIA PARA EL MUNDO! Baby\n",
      "\n",
      "Princess,  Yo vengo a, Jugar, Fuelte, Sin compromiso\n",
      "Mami,  Yo quielo, Encendelte, Lento, Sin anestesia\n",
      "Princess,  Voy a,  Jugar, Suave, Face to face\n",
      "Princess,  Yo vengo a, Encendelte, Rapido, Sin compromiso\n"
     ]
    }
   ],
   "source": [
    "import random\n",
    "\n",
    "def cancionre(saludo):\n",
    "    \n",
    "   \n",
    "    Letras_1 = [\"Mami, \", \"Bebecita, \", \"Mami, \", \"Princess, \"]\n",
    "    Letras_2 = [\"Yo quielo,\",\"Voy a, \", \"Yo puedo, \", \"Yo vengo a,\"]\n",
    "    Letras_3 = [\"Amalte,\", \"Jugar,\", \"Encendelte,\", \"Ligar,\"]\n",
    "    Letras_4 = [\"Suave,\", \"Rapido,\", \"Lento,\", \"Fuelte,\"]\n",
    "    Letras_5 = [\"Sin miedo\", \"Sin compromiso\", \"Sin anestesia\", \"Face to face\"]\n",
    "    \n",
    "    PalabrasC = Letras_1[0] + ' ' + Letras_2[0] + ' ' + Letras_3[0]+ ' ' + Letras_4[0]+ ' ' + Letras_5[0]\n",
    "    \n",
    "    lines = 4\n",
    "    line = 0\n",
    "    paragraph = ''\n",
    "    \n",
    "    while line < lines:\n",
    "        x_1 = random.randint(0, len(Letras_1)-1)\n",
    "        x_2 = random.randint(0, len(Letras_2)-1)\n",
    "        x_3 = random.randint(0, len(Letras_3)-1)\n",
    "        x_4 = random.randint(0, len(Letras_4)-1)\n",
    "        x_5 = random.randint(0, len(Letras_5)-1)\n",
    "        \n",
    "        paragraph += '\\n' + Letras_1[x_1] + ' ' + Letras_2[x_2] + ' ' + Letras_3[x_3]+ ' ' + Letras_4[x_4]+ ' ' + Letras_5[x_5]\n",
    "        line += 1\n",
    "        \n",
    "        \n",
    "        saludoMayu = saludo.upper()\n",
    "         \n",
    "    print(paragraph)\n",
    "    print(NombCompositor + \" \" + saludoMayu + \" Baby\" )\n",
    "    print(paragraph)\n",
    "    \n",
    "    \n",
    "cancionre(\"¡Desde Colombia para el mundo!\")\n",
    "\n"
   ]
  },
  {
   "cell_type": "code",
   "execution_count": null,
   "id": "c465124d",
   "metadata": {},
   "outputs": [],
   "source": []
  },
  {
   "cell_type": "code",
   "execution_count": null,
   "id": "7d2ad33a",
   "metadata": {},
   "outputs": [],
   "source": []
  }
 ],
 "metadata": {
  "kernelspec": {
   "display_name": "Python 3 (ipykernel)",
   "language": "python",
   "name": "python3"
  },
  "language_info": {
   "codemirror_mode": {
    "name": "ipython",
    "version": 3
   },
   "file_extension": ".py",
   "mimetype": "text/x-python",
   "name": "python",
   "nbconvert_exporter": "python",
   "pygments_lexer": "ipython3",
   "version": "3.9.12"
  }
 },
 "nbformat": 4,
 "nbformat_minor": 5
}
