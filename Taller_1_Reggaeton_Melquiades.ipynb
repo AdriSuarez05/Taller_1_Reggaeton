{
 "cells": [
  {
   "cell_type": "markdown",
   "id": "f48739df",
   "metadata": {},
   "source": [
    "## Solución al Taller Numero 1\n",
    "\n",
    "### Diplomado Python aplicado a la Ingeniería\n",
    "\n",
    "- Autor: Adriana Lucia Suarez Ballesteros\n",
    "- ID: 502197\n",
    "- email: adriana.suarezb@upb.edu.co\n",
    "\n",
    "Para el ejercicio: Primero hice las listas y luego probe que la libreria random tomara aleatoriamente las frases incluidas en ella, luego, pedí el nombre de usuario y cuando todo funcionaba solo agregue detalles finales, como multiplicar el resultado por 2 para que se repitiera dos veces."
   ]
  },
  {
   "cell_type": "code",
   "execution_count": null,
   "id": "8649d7f9",
   "metadata": {},
   "outputs": [],
   "source": [
    "import random\n",
    "\n",
    "NombCompositor = input(\"Digite el nombre de autor \")\n",
    "\n",
    "\n"
   ]
  },
  {
   "cell_type": "code",
   "execution_count": 30,
   "id": "38988ab6",
   "metadata": {},
   "outputs": [
    {
     "name": "stdout",
     "output_type": "stream",
     "text": [
      "[' Mami,  Yo quielo, Bebecita,  Encendelte, Rapido, Sin compromiso', ' Mami,  Yo quielo, Bebecita,  Encendelte, Rapido, Sin compromiso']\n",
      "Luis Desde Colombia para el mundo\n"
     ]
    }
   ],
   "source": [
    "Letras_1 = [\" Mami, \", \" Bebecita, \", \" Mami, \", \" Princess, \"]\n",
    "Letras_2 = [\" Yo quielo,\", \"Voy a, \", \"Yo puedo, \", \" Yo vengo a,\"]\n",
    "Letras_3 = [\" Amalte,\", \" Jugar,\", \" Encendelte,\", \" Ligar,\"]\n",
    "Letras_4 = [\" Suave,\", \" Rapido,\", \" Lento,\", \" Fuelte,\"]\n",
    "Letras_5 = [\" Sin miedo\", \" Sin compromiso\", \" Sin anestesia\", \" Face to face\"]\n",
    "\n",
    "CancionReggaeton = [Letras_1[random.randint(0,3)] + Letras_2[random.randint(0,3)] + Letras_1[random.randint(0,3)] + Letras_3[random.randint(0,3)] + \n",
    "                    Letras_4[random.randint(0,3)] + Letras_5[random.randint(0,3)] ]\n",
    "\n",
    "\n",
    "\n",
    "print(CancionReggaeton*2 )\n",
    "print(NombCompositor + \" Desde Colombia para el mundo\")\n"
   ]
  },
  {
   "cell_type": "code",
   "execution_count": null,
   "id": "c465124d",
   "metadata": {},
   "outputs": [],
   "source": []
  }
 ],
 "metadata": {
  "kernelspec": {
   "display_name": "Python 3 (ipykernel)",
   "language": "python",
   "name": "python3"
  },
  "language_info": {
   "codemirror_mode": {
    "name": "ipython",
    "version": 3
   },
   "file_extension": ".py",
   "mimetype": "text/x-python",
   "name": "python",
   "nbconvert_exporter": "python",
   "pygments_lexer": "ipython3",
   "version": "3.9.12"
  }
 },
 "nbformat": 4,
 "nbformat_minor": 5
}
